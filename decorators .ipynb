{
 "cells": [
  {
   "cell_type": "code",
   "execution_count": 178,
   "metadata": {},
   "outputs": [],
   "source": [
    "def calcaulate(price_map,**kwargs):\n",
    "\n",
    "    def discount_a(method):\n",
    "        def wrapper(**kwargs):\n",
    "            if \"a\" in kwargs:\n",
    "                return method(**kwargs) - (kwargs[\"a\"] * price_map[\"a\"] * 0.1)\n",
    "            else:\n",
    "                return method(**kwargs)\n",
    "        return wrapper\n",
    "    \n",
    "    def discount_b(method):\n",
    "        def wrapper(**kwargs):\n",
    "            if \"b\" in kwargs:\n",
    "                return method(**kwargs) - (kwargs[\"b\"] * price_map[\"b\"] * 0.9)\n",
    "            else:\n",
    "                return method(**kwargs)\n",
    "        return wrapper  \n",
    "    \n",
    "    @discount_b\n",
    "    @discount_a\n",
    "    def calculate_transaction(**kwargs):\n",
    "\n",
    "        def total_cost(**kwargs):\n",
    "            total = 0\n",
    "            for key in price_map:\n",
    "                if key in kwargs:\n",
    "                    total += kwargs[key] * price_map[key]\n",
    "            return total\n",
    "        return total_cost(**kwargs)\n",
    "    \n",
    "    return calculate_transaction(**kwargs)   \n"
   ]
  },
  {
   "cell_type": "code",
   "execution_count": 179,
   "metadata": {},
   "outputs": [
    {
     "name": "stdout",
     "output_type": "stream",
     "text": [
      "7.23\n"
     ]
    }
   ],
   "source": [
    "print(calcaulate({\"a\" : 0.5, \"b\" : 1.1, \"c\": 1.5}, a = 2, b = 3, c = 4))"
   ]
  },
  {
   "cell_type": "code",
   "execution_count": null,
   "metadata": {},
   "outputs": [],
   "source": []
  },
  {
   "cell_type": "code",
   "execution_count": null,
   "metadata": {},
   "outputs": [],
   "source": []
  },
  {
   "cell_type": "code",
   "execution_count": null,
   "metadata": {},
   "outputs": [],
   "source": []
  },
  {
   "cell_type": "code",
   "execution_count": 145,
   "metadata": {},
   "outputs": [],
   "source": [
    "def a(value):\n",
    "    \n",
    "    def b(method):\n",
    "        def wrapper(*args):\n",
    "            print(args)\n",
    "        return wrapper\n",
    "    \n",
    "    @b\n",
    "    def c(value):\n",
    "        return value\n",
    "    \n",
    "    \n",
    "    return c(value)"
   ]
  },
  {
   "cell_type": "code",
   "execution_count": 146,
   "metadata": {},
   "outputs": [
    {
     "name": "stdout",
     "output_type": "stream",
     "text": [
      "(2,)\n"
     ]
    }
   ],
   "source": [
    "a(2)"
   ]
  }
 ],
 "metadata": {
  "kernelspec": {
   "display_name": "Python 3",
   "language": "python",
   "name": "python3"
  },
  "language_info": {
   "codemirror_mode": {
    "name": "ipython",
    "version": 3
   },
   "file_extension": ".py",
   "mimetype": "text/x-python",
   "name": "python",
   "nbconvert_exporter": "python",
   "pygments_lexer": "ipython3",
   "version": "3.7.4"
  }
 },
 "nbformat": 4,
 "nbformat_minor": 2
}
