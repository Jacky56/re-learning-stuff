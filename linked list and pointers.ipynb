{
 "cells": [
  {
   "cell_type": "code",
   "execution_count": 3,
   "metadata": {},
   "outputs": [],
   "source": [
    "# In Linked list, you cannot\n",
    "# edit the node itself but \n",
    "# edit the next node it is \n",
    "# pointing to.\n",
    "\n",
    "# eg. pointing to next node\n",
    "\n",
    "# current_node = current_node.next <---- This is wrong\n",
    "\n",
    "# current_node.next = current_node.next.next <--- this changes the pointer to skip\n",
    "\n",
    "\n",
    "# eg. iterating through linkedlist\n",
    "\n",
    "# create a pointer that references the head,\n",
    "# use pointer to iterate through the chain.\n",
    "\n",
    "# head = head.next <------ wrong\n",
    "\n",
    "# pointer = head\n",
    "# pointer = pointer.next <------ right\n",
    "\n",
    "\n",
    "#LinkedList will always have side effects, \n",
    "#it is based on reference of memory address"
   ]
  },
  {
   "cell_type": "code",
   "execution_count": 4,
   "metadata": {},
   "outputs": [],
   "source": [
    "class LinkedList:\n",
    "    def __init__(self, val, n=None):\n",
    "        self.val = val\n",
    "        self.n = n\n",
    "\n",
    "        "
   ]
  },
  {
   "cell_type": "code",
   "execution_count": 163,
   "metadata": {},
   "outputs": [],
   "source": [
    "data = [x for x in range(10)]"
   ]
  },
  {
   "cell_type": "code",
   "execution_count": 164,
   "metadata": {},
   "outputs": [],
   "source": [
    "def to_linkedlist(data):\n",
    "    \n",
    "    head = LinkedList(None)\n",
    "    pointer = head\n",
    "    for e in data:\n",
    "        # https://gyazo.com/641d309f195dbc69fd216dacca3253e5\n",
    "        pointer.n = LinkedList(e)\n",
    "        pointer = pointer.n\n",
    "        \n",
    "    return head.n"
   ]
  },
  {
   "cell_type": "code",
   "execution_count": 7,
   "metadata": {},
   "outputs": [],
   "source": [
    "def remove_val(head, element):\n",
    "    \n",
    "    \n",
    "    pointer = LinkedList(None)\n",
    "    pointer.n = head\n",
    "    \n",
    "    # pointerHead = pointer\n",
    "    \n",
    "    while pointer != None and pointer.n != None:\n",
    "        if pointer.n.val == element:\n",
    "            pointer.n = pointer.n.n\n",
    "        else:\n",
    "            pointer = pointer.n\n",
    "            \n",
    "    # return pointerHead.n"
   ]
  },
  {
   "cell_type": "code",
   "execution_count": 182,
   "metadata": {},
   "outputs": [],
   "source": [
    "head = to_linkedlist(data)"
   ]
  },
  {
   "cell_type": "code",
   "execution_count": 205,
   "metadata": {},
   "outputs": [],
   "source": [
    "\n",
    "def swap(head):\n",
    "    pointer = head\n",
    "    \n",
    "    for i in range(3):\n",
    "        tmp = pointer\n",
    "        tmpn = pointer.n.n\n",
    "\n",
    "        pointer = pointer.n\n",
    "\n",
    "        tmp.n = tmpn\n",
    "        pointer.n = tmp\n",
    "    \n",
    "        print(pointer.val, pointer.n.val, pointer.n.n.val, pointer.n.n.n.val)\n",
    "        \n",
    "    return head"
   ]
  },
  {
   "cell_type": "code",
   "execution_count": 208,
   "metadata": {},
   "outputs": [
    {
     "name": "stdout",
     "output_type": "stream",
     "text": [
      "7 0 8 9\n",
      "0 7 8 9\n",
      "7 0 8 9\n",
      "0\n",
      "8\n",
      "9\n"
     ]
    }
   ],
   "source": [
    "p = swap(head)\n",
    "\n",
    "\n",
    "while p != None:\n",
    "    print(p.val)\n",
    "    p = p.n\n"
   ]
  },
  {
   "cell_type": "code",
   "execution_count": null,
   "metadata": {},
   "outputs": [],
   "source": []
  }
 ],
 "metadata": {
  "kernelspec": {
   "display_name": "Python 3",
   "language": "python",
   "name": "python3"
  },
  "language_info": {
   "codemirror_mode": {
    "name": "ipython",
    "version": 3
   },
   "file_extension": ".py",
   "mimetype": "text/x-python",
   "name": "python",
   "nbconvert_exporter": "python",
   "pygments_lexer": "ipython3",
   "version": "3.7.4"
  }
 },
 "nbformat": 4,
 "nbformat_minor": 2
}
