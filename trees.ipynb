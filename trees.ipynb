{
 "cells": [
  {
   "cell_type": "code",
   "execution_count": 48,
   "metadata": {},
   "outputs": [],
   "source": [
    "class node:\n",
    "    def __init__(self, val):\n",
    "        self.val = val\n",
    "        self.left = None\n",
    "        self.right = None\n"
   ]
  },
  {
   "cell_type": "code",
   "execution_count": 68,
   "metadata": {},
   "outputs": [],
   "source": [
    "class tree:\n",
    "    def __init__(self, vals = None):\n",
    "        self.root = self.build_tree(vals)\n",
    "        \n",
    "    def build_tree(self, vals):\n",
    "        nums = vals.copy()\n",
    "        bfs_queue = []\n",
    "        root = node(nums.pop(0))\n",
    "        bfs_queue.append(root)\n",
    "        while nums:\n",
    "            current = bfs_queue.pop(0)\n",
    "            \n",
    "            if nums:\n",
    "                current.left = node(nums.pop(0))\n",
    "                bfs_queue.append(current.left)\n",
    "            else:\n",
    "                current.left = node(None)\n",
    "                \n",
    "            if nums:\n",
    "                current.right = node(nums.pop(0))\n",
    "                bfs_queue.append(current.right)\n",
    "            else:\n",
    "                current.right = node(None)\n",
    "            \n",
    "        return root\n",
    "\n",
    "    \n",
    "    def print_bfs(self):\n",
    "        bfs_queue = []\n",
    "        bfs_queue.append(self.root)\n",
    "        current = bfs_queue[0]\n",
    "        while bfs_queue[0] != None:\n",
    "            current = bfs_queue.pop(0)\n",
    "            print(current.val)\n",
    "            bfs_queue.append(current.left)\n",
    "            bfs_queue.append(current.right)\n",
    "            \n",
    "    def print_recursion(self):\n",
    "        self.helper(self.root)\n",
    "    \n",
    "    def helper(self, node):\n",
    "        if node == None:\n",
    "            return None\n",
    "        \n",
    "        print(node.val)\n",
    "            \n",
    "        if node.left != None:\n",
    "            self.helper(node.left)\n",
    "\n",
    "        if node.right != None:\n",
    "            self.helper(node.right)\n",
    " \n",
    "        return node.val\n",
    "    \n",
    "    \n",
    "    def print_dfs(self):\n",
    "        dfs_stack = []\n",
    "        dfs_stack.append(self.root)\n",
    "        current = dfs_stack[0]\n",
    "        while dfs_stack[0] != None:\n",
    "            current = dfs_stack.pop()\n",
    "            \n",
    "            if current != None:\n",
    "                dfs_stack.append(current.left)\n",
    "                print(current.val)\n",
    "                dfs_stack.append(current.right)  \n",
    "            \n",
    "    "
   ]
  },
  {
   "cell_type": "code",
   "execution_count": 56,
   "metadata": {},
   "outputs": [],
   "source": [
    "nums = [x for x in range(6)]"
   ]
  },
  {
   "cell_type": "code",
   "execution_count": 66,
   "metadata": {},
   "outputs": [],
   "source": [
    "tree_data = tree(nums)"
   ]
  },
  {
   "cell_type": "code",
   "execution_count": 52,
   "metadata": {},
   "outputs": [
    {
     "name": "stdout",
     "output_type": "stream",
     "text": [
      "0\n",
      "1\n",
      "2\n",
      "3\n",
      "4\n",
      "5\n",
      "None\n"
     ]
    }
   ],
   "source": [
    "tree_data.print_bfs()"
   ]
  },
  {
   "cell_type": "code",
   "execution_count": 53,
   "metadata": {},
   "outputs": [
    {
     "name": "stdout",
     "output_type": "stream",
     "text": [
      "0\n",
      "2\n",
      "None\n",
      "5\n",
      "1\n",
      "4\n",
      "3\n"
     ]
    }
   ],
   "source": [
    "tree_data.print_dfs()"
   ]
  },
  {
   "cell_type": "code",
   "execution_count": 69,
   "metadata": {},
   "outputs": [
    {
     "name": "stdout",
     "output_type": "stream",
     "text": [
      "3\n",
      "4\n",
      "1\n",
      "5\n",
      "None\n",
      "2\n",
      "0\n"
     ]
    }
   ],
   "source": [
    "tree_data.print_recursion()"
   ]
  }
 ],
 "metadata": {
  "kernelspec": {
   "display_name": "Python 3",
   "language": "python",
   "name": "python3"
  },
  "language_info": {
   "codemirror_mode": {
    "name": "ipython",
    "version": 3
   },
   "file_extension": ".py",
   "mimetype": "text/x-python",
   "name": "python",
   "nbconvert_exporter": "python",
   "pygments_lexer": "ipython3",
   "version": "3.7.4"
  }
 },
 "nbformat": 4,
 "nbformat_minor": 2
}
